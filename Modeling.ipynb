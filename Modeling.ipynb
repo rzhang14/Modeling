{
 "cells": [
  {
   "cell_type": "markdown",
   "metadata": {},
   "source": [
    "# Financial Modeling and Estimation\n",
    "\n",
    "v1.0 (2018 Fall) Nikunj Jain"
   ]
  },
  {
   "cell_type": "code",
   "execution_count": 1,
   "metadata": {
    "scrolled": true
   },
   "outputs": [
    {
     "name": "stderr",
     "output_type": "stream",
     "text": [
      "/Users/ronaldzhang/anaconda3/lib/python3.6/site-packages/sklearn/cross_validation.py:41: DeprecationWarning: This module was deprecated in version 0.18 in favor of the model_selection module into which all the refactored classes and functions are moved. Also note that the interface of the new CV iterators are different from that of this module. This module will be removed in 0.20.\n",
      "  \"This module will be removed in 0.20.\", DeprecationWarning)\n"
     ]
    }
   ],
   "source": [
    "%matplotlib inline\n",
    "\n",
    "import quandl as Quandl\n",
    "Quandl.ApiConfig.api_key = \"msKYtye1W9DWW4CuVSnW\"\n",
    "import numpy as np\n",
    "import pandas as pd\n",
    "import math\n",
    "from sklearn import preprocessing, cross_validation, svm\n",
    "from sklearn.linear_model import *\n",
    "from sklearn.ensemble import RandomForestRegressor\n",
    "import matplotlib.pyplot as plt\n",
    "from matplotlib import style\n",
    "import datetime\n",
    "style.use('ggplot')\n",
    "import pickle as pkl\n",
    "\n",
    "import util as u\n",
    "from sklearn.svm import SVR, SVC"
   ]
  },
  {
   "cell_type": "markdown",
   "metadata": {},
   "source": [
    "## <font color = blue> Load in Data </font>"
   ]
  },
  {
   "cell_type": "code",
   "execution_count": 2,
   "metadata": {},
   "outputs": [
    {
     "name": "stdout",
     "output_type": "stream",
     "text": [
      "Number of stocks to predict on: 93\n"
     ]
    }
   ],
   "source": [
    "with open(\"cleaned_data.pickle\", \"rb\") as input_file:\n",
    "    cleaned_data = pkl.load(input_file)\n",
    "    \n",
    "with open(\"cleaned_data_aug.pickle\", \"rb\") as input_file:\n",
    "    cleaned_data_aug = pkl.load(input_file)\n",
    "\n",
    "print(\"Number of stocks to predict on: {}\".format(len(cleaned_data)))"
   ]
  },
  {
   "cell_type": "code",
   "execution_count": 3,
   "metadata": {},
   "outputs": [],
   "source": [
    "clf_linreg = LinearRegression(n_jobs=-1)\n",
    "clf_ridge = Ridge()\n",
    "clf_lasso = Lasso()\n",
    "clf_elasticnet = ElasticNet()\n",
    "clf_RF = RandomForestRegressor()\n",
    "clf_SVR = SVR(kernel= 'rbf', C= 1e3, gamma= 0.1)\n",
    "\n",
    "clfs = [clf_SVR, clf_ridge, clf_lasso,  clf_elasticnet, clf_RF]"
   ]
  },
  {
   "cell_type": "markdown",
   "metadata": {},
   "source": [
    "### Train and report scores!"
   ]
  },
  {
   "cell_type": "code",
   "execution_count": 4,
   "metadata": {},
   "outputs": [
    {
     "name": "stderr",
     "output_type": "stream",
     "text": [
      "/Users/ronaldzhang/anaconda3/lib/python3.6/site-packages/sklearn/linear_model/coordinate_descent.py:491: ConvergenceWarning: Objective did not converge. You might want to increase the number of iterations. Fitting data with very small alpha may cause precision problems.\n",
      "  ConvergenceWarning)\n"
     ]
    },
    {
     "name": "stdout",
     "output_type": "stream",
     "text": [
      "[[0.7758742  0.8208183 ]\n",
      " [0.6750446  0.85844668]\n",
      " [0.56538783 0.63431972]\n",
      " [0.60820211 0.7012932 ]\n",
      " [0.92323469 0.96230006]]\n"
     ]
    }
   ],
   "source": [
    "scores = []\n",
    "for clf in clfs:\n",
    "    score = u.average_metrics(cleaned_data, cleaned_data_aug, clf);\n",
    "    scores += [score]\n",
    "\n",
    "print(np.array(scores))\n"
   ]
  },
  {
   "cell_type": "code",
   "execution_count": 5,
   "metadata": {},
   "outputs": [
    {
     "name": "stdout",
     "output_type": "stream",
     "text": [
      "Ridge Regression\n",
      "Without Market Indicators: 0.6750445951072638\n",
      "With Market Indicators: 0.8584466776533646\n",
      "Improvement after adding general market indicators: +0.1834020825461008\n"
     ]
    }
   ],
   "source": [
    "no_market_conf = scores[1][0]\n",
    "market_conf = scores[1][1]\n",
    "diff = market_conf - no_market_conf\n",
    "\n",
    "print(\"Ridge Regression\")\n",
    "print(\"Without Market Indicators: \" + str(no_market_conf))\n",
    "print(\"With Market Indicators: \" + str(market_conf))\n",
    "print(\"Improvement after adding general market indicators: +\" + str(diff))"
   ]
  },
  {
   "cell_type": "code",
   "execution_count": 6,
   "metadata": {},
   "outputs": [
    {
     "name": "stdout",
     "output_type": "stream",
     "text": [
      "Lasso Regression\n",
      "Without Market Indicators: 0.5653878291356155\n",
      "With Market Indicators: 0.6343197176270293\n",
      "Improvement after adding general market indicators: +0.06893188849141385\n"
     ]
    }
   ],
   "source": [
    "no_market_conf = scores[2][0]\n",
    "market_conf = scores[2][1]\n",
    "diff = market_conf - no_market_conf\n",
    "\n",
    "print(\"Lasso Regression\")\n",
    "print(\"Without Market Indicators: \" + str(no_market_conf))\n",
    "print(\"With Market Indicators: \" + str(market_conf))\n",
    "print(\"Improvement after adding general market indicators: +\" + str(diff))"
   ]
  },
  {
   "cell_type": "code",
   "execution_count": 7,
   "metadata": {},
   "outputs": [
    {
     "name": "stdout",
     "output_type": "stream",
     "text": [
      "Elastic Net\n",
      "Without Market Indicators: 0.6082021077610043\n",
      "With Market Indicators: 0.7012931961288673\n",
      "Improvement after adding general market indicators: +0.09309108836786306\n"
     ]
    }
   ],
   "source": [
    "no_market_conf = scores[3][0]\n",
    "market_conf = scores[3][1]\n",
    "diff = market_conf - no_market_conf\n",
    "\n",
    "print(\"Elastic Net\")\n",
    "print(\"Without Market Indicators: \" + str(no_market_conf))\n",
    "print(\"With Market Indicators: \" + str(market_conf))\n",
    "print(\"Improvement after adding general market indicators: +\" + str(diff))"
   ]
  },
  {
   "cell_type": "code",
   "execution_count": 8,
   "metadata": {},
   "outputs": [
    {
     "name": "stdout",
     "output_type": "stream",
     "text": [
      "Support Vector Regression\n",
      "Without Market Indicators: 0.7758741999067205\n",
      "With Market Indicators: 0.8208182959900675\n",
      "Improvement after adding general market indicators: +0.04494409608334704\n"
     ]
    }
   ],
   "source": [
    "no_market_conf = scores[0][0]\n",
    "market_conf = scores[0][1]\n",
    "diff = market_conf - no_market_conf\n",
    "\n",
    "print(\"Support Vector Regression\")\n",
    "print(\"Without Market Indicators: \" + str(no_market_conf))\n",
    "print(\"With Market Indicators: \" + str(market_conf))\n",
    "print(\"Improvement after adding general market indicators: +\" + str(diff))"
   ]
  },
  {
   "cell_type": "code",
   "execution_count": 9,
   "metadata": {},
   "outputs": [
    {
     "name": "stdout",
     "output_type": "stream",
     "text": [
      "Random Forest\n",
      "Without Market Indicators: 0.923234693130761\n",
      "With Market Indicators: 0.962300059460161\n",
      "Improvement after adding general market indicators: +0.03906536632939994\n"
     ]
    }
   ],
   "source": [
    "no_market_conf = scores[4][0]\n",
    "market_conf = scores[4][1]\n",
    "diff = market_conf - no_market_conf\n",
    "\n",
    "print(\"Random Forest\")\n",
    "print(\"Without Market Indicators: \" + str(no_market_conf))\n",
    "print(\"With Market Indicators: \" + str(market_conf))\n",
    "print(\"Improvement after adding general market indicators: +\" + str(diff))"
   ]
  }
 ],
 "metadata": {
  "kernelspec": {
   "display_name": "Python 3",
   "language": "python",
   "name": "python3"
  },
  "language_info": {
   "codemirror_mode": {
    "name": "ipython",
    "version": 3
   },
   "file_extension": ".py",
   "mimetype": "text/x-python",
   "name": "python",
   "nbconvert_exporter": "python",
   "pygments_lexer": "ipython3",
   "version": "3.6.5"
  }
 },
 "nbformat": 4,
 "nbformat_minor": 2
}
