{
 "cells": [
  {
   "cell_type": "markdown",
   "metadata": {},
   "source": [
    "# Outline"
   ]
  },
  {
   "cell_type": "markdown",
   "metadata": {},
   "source": [
    "1. Getting data\n",
    "2. Data cleaning & featurizing\n",
    "3. Data Export"
   ]
  },
  {
   "cell_type": "code",
   "execution_count": 1,
   "metadata": {
    "scrolled": true
   },
   "outputs": [
    {
     "name": "stderr",
     "output_type": "stream",
     "text": [
      "/Users/ronaldzhang/anaconda3/lib/python3.6/site-packages/sklearn/cross_validation.py:41: DeprecationWarning: This module was deprecated in version 0.18 in favor of the model_selection module into which all the refactored classes and functions are moved. Also note that the interface of the new CV iterators are different from that of this module. This module will be removed in 0.20.\n",
      "  \"This module will be removed in 0.20.\", DeprecationWarning)\n"
     ]
    }
   ],
   "source": [
    "%matplotlib inline\n",
    "\n",
    "import quandl as Quandl\n",
    "Quandl.ApiConfig.api_key = \"EGdC1RASF31yDGeBDRt7\"\n",
    "import numpy as np\n",
    "import pandas as pd\n",
    "import math\n",
    "from sklearn import preprocessing, cross_validation, svm\n",
    "from sklearn.linear_model import LinearRegression\n",
    "import matplotlib.pyplot as plt\n",
    "from matplotlib import style\n",
    "import datetime\n",
    "import pickle as pkl\n",
    "style.use('ggplot')\n",
    "\n",
    "import util as u\n",
    "from functools import reduce"
   ]
  },
  {
   "cell_type": "markdown",
   "metadata": {},
   "source": [
    "## <font color = blue> Getting Data</font>"
   ]
  },
  {
   "cell_type": "markdown",
   "metadata": {},
   "source": [
    "* Individual Stocks\n",
    "* Market & Industry Indicators"
   ]
  },
  {
   "cell_type": "markdown",
   "metadata": {},
   "source": [
    "### Individual Stocks"
   ]
  },
  {
   "cell_type": "markdown",
   "metadata": {},
   "source": [
    "Scraping the top 200 tech companies from NASDAQ (https://www.nasdaq.com/screening/companies-by-industry.aspx?industry=Technology."
   ]
  },
  {
   "cell_type": "code",
   "execution_count": 2,
   "metadata": {},
   "outputs": [],
   "source": [
    "tech_tickers = np.array([a.strip().upper() for a in pd.read_csv('companylist.csv')['Symbol']])\n",
    "quandl_codes_tech_tickers = [\"WIKI/\"+ticker for ticker in tech_tickers]"
   ]
  },
  {
   "cell_type": "markdown",
   "metadata": {},
   "source": [
    "Get the ticker data!"
   ]
  },
  {
   "cell_type": "code",
   "execution_count": null,
   "metadata": {},
   "outputs": [],
   "source": [
    "tech_data = u.fetch_prices(quandl_codes_tech_tickers, limit=200)"
   ]
  },
  {
   "cell_type": "markdown",
   "metadata": {},
   "source": [
    "## <font color = blue>Data Cleaning & Featurizing </font>"
   ]
  },
  {
   "cell_type": "markdown",
   "metadata": {},
   "source": [
    "* Featurizing\n",
    "* Cleaning"
   ]
  },
  {
   "cell_type": "markdown",
   "metadata": {},
   "source": [
    "#### Featurizing"
   ]
  },
  {
   "cell_type": "code",
   "execution_count": null,
   "metadata": {},
   "outputs": [],
   "source": [
    "tech_data = u.apply_to_all_stocks(u.select_relevant_raw_features, tech_data)\n",
    "tech_data = u.apply_to_all_stocks(u.add_ft_PCT_change, tech_data)\n",
    "tech_data = u.apply_to_all_stocks(u.select_indicators, tech_data)\n",
    "\n"
   ]
  },
  {
   "cell_type": "markdown",
   "metadata": {},
   "source": [
    "# Indices & Market-Level Data"
   ]
  },
  {
   "cell_type": "code",
   "execution_count": null,
   "metadata": {},
   "outputs": [],
   "source": [
    "%matplotlib inline\n",
    "\n",
    "import quandl as Quandl\n",
    "Quandl.ApiConfig.api_key = \"EGdC1RASF31yDGeBDRt7\"\n",
    "import numpy as np\n",
    "import pandas as pd\n",
    "import math\n",
    "from sklearn import preprocessing, cross_validation, svm\n",
    "from sklearn.linear_model import LinearRegression\n",
    "import matplotlib.pyplot as plt\n",
    "from matplotlib import style\n",
    "import datetime\n",
    "import pickle as pkl\n",
    "style.use('ggplot')\n",
    "\n",
    "import util as u"
   ]
  },
  {
   "cell_type": "markdown",
   "metadata": {},
   "source": [
    "Indices from NASDAQOMX (https://www.quandl.com/data/NASDAQOMX-NASDAQ-OMX-Global-Index-Data?keyword=technology):\n",
    "    \n",
    "    --------- SECTOR INDICATORS ----------\n",
    "    \n",
    "    NASDAQ-100 Ex-Tech Sector (NDXX)\n",
    "    NASDAQ-100 Technology Sector (NDXT) \n",
    "    NASDAQ-100 Target 25 Index(NDXT25) //Note: dropped due to little data\n",
    "    NASDAQ-100 Technology Sector Total Return (NTTR)\n",
    "    \n",
    "    --------- MARKET INDICATORS -----------\n",
    "    \n",
    "    NASDAQ N America Index (NQNA)\n",
    "    NASDAQ US All Market Index (NQUSA)\n",
    "\n",
    "    NASDAQ US 1500 Index (NQUSS1500)\n",
    "    NASDAQ US 450 Index (NQUSM450)\n",
    "    NASDAQ US 300 Index (NQUSL300)\n",
    "\n",
    "    NASDAQ US Small Cap Index (NQUSS)\n",
    "    NASDAQ US Large Cap Index (NQUSL)\n",
    "    NASDAQ US Mid Cap Index (NQUSM)\n",
    "    \n",
    "    Nasdaq US Sustainable Momentum Index (NQSUMO) //Note: dropped due to little data\n",
    "    \n",
    "    \n",
    "    \n",
    "Indices from URC (https://www.quandl.com/data/URC-Unicorn-Research-Corporation?page=3):\n",
    "\n",
    "    --------- MARKET INDICATORS -----------\n",
    "\n",
    "    All of them on the NASDAQ\n",
    "    \n",
    "    "
   ]
  },
  {
   "cell_type": "code",
   "execution_count": null,
   "metadata": {},
   "outputs": [],
   "source": [
    "sector_idcs = ['NDXX','NDXT','NTTR']\n",
    "market_idcs = ['NQNA', 'NQUSA', 'NQUSS1500', 'NQUSM450', 'NQUSL300', 'NQUSS', 'NQUSL', 'NQUSM']\n",
    "sector_idcs, market_idcs = [\"NASDAQOMX/\"+t for t in sector_idcs], [\"NASDAQOMX/\"+t for t in market_idcs]"
   ]
  },
  {
   "cell_type": "code",
   "execution_count": null,
   "metadata": {},
   "outputs": [],
   "source": [
    "market_urc_idcs = [\"URC/\"+name for name in [\"NASDAQ_ADV\", \"NASDAQ_UNCH\", \"NASDAQ_52W_LO\", \"NASDAQ_52W_HI\", \"NASDAQ_UNCH_VOL\", \"NASDAQ_DEC_VOL\", \"NASDAQ_ADV_VOL\", \"NASDAQ_UNC\", \"NASDAQ_DEC\"]]\n"
   ]
  },
  {
   "cell_type": "code",
   "execution_count": null,
   "metadata": {},
   "outputs": [],
   "source": [
    "sector_data, market_data = u.fetch_prices(sector_idcs), u.fetch_prices(market_idcs)\n",
    "market_urc_data = u.fetch_prices(market_urc_idcs)\n"
   ]
  },
  {
   "cell_type": "code",
   "execution_count": null,
   "metadata": {},
   "outputs": [],
   "source": [
    "#drop some columns we don't want\n",
    "_ = [u.drop_col(df, 'Dividend Market Value') for df in sector_data.values()] #drop div values from all sector data\n",
    "_ = [u.drop_col(df, 'Dividend Market Value') for df in market_data.values()] #drop div values from all sector data\n"
   ]
  },
  {
   "cell_type": "code",
   "execution_count": null,
   "metadata": {},
   "outputs": [],
   "source": [
    "#featurize\n",
    "sector_data = u.apply_to_all_stocks(u.add_industry_level_fts, sector_data)\n",
    "market_data = u.apply_to_all_stocks(u.add_market_level_fts, market_data)\n",
    "market_data_urc = u.apply_to_all_stocks(u.add_market_urc_level_fts, market_urc_data)\n"
   ]
  },
  {
   "cell_type": "markdown",
   "metadata": {},
   "source": [
    "Since we don't have dates that align, what we can do is join everything on dates, and see which stocks have full data. We will then experiment only with those!"
   ]
  },
  {
   "cell_type": "code",
   "execution_count": null,
   "metadata": {},
   "outputs": [],
   "source": [
    "dfs = []\n",
    "dfs += [df for df in sector_data.values()]\n",
    "dfs += [df for df in market_data.values()]\n",
    "dfs += [df for df in market_urc_data.values()]\n",
    "\n",
    "industry_mkt_fts = reduce(lambda left,right: pd.merge(left,right,how='inner',left_index=True, right_index=True), dfs)\n",
    "\n",
    "print(\"Range of industry and market features is in: \", max(industry_mkt_fts.index), min(industry_mkt_fts.index))\n"
   ]
  },
  {
   "cell_type": "markdown",
   "metadata": {},
   "source": [
    "## Clean & Save Individual Stock and Market & Industry Indicators"
   ]
  },
  {
   "cell_type": "markdown",
   "metadata": {},
   "source": [
    "We do this after the market & industry because we want to filter by date on individual stocks such that we get matching time frames for all featurizations"
   ]
  },
  {
   "cell_type": "markdown",
   "metadata": {},
   "source": [
    "#### Cleaning"
   ]
  },
  {
   "cell_type": "code",
   "execution_count": null,
   "metadata": {},
   "outputs": [],
   "source": [
    "cleaned_data = {}\n",
    "cleaned_data_aug = {}\n",
    "\n",
    "for stock_data,stock_ticker in zip(tech_data.values(), tech_data.keys()):\n",
    "    \n",
    "\n",
    "    \n",
    "    stock_n_market_n_industry = pd.merge(stock_data,\n",
    "                                          industry_mkt_fts,\n",
    "                                          how='inner',\n",
    "                                          left_index=True, \n",
    "                                          right_index=True)\n",
    "\n",
    "    #next, clean and normalize\n",
    "    try: \n",
    "        \n",
    "        ### MARKET & INDUSTRY\n",
    "        X,y,X_lately = u.clean_and_split(stock_n_market_n_industry,\n",
    "                      forecast_pct=0.05,\n",
    "                      forecast_col='Adj. Close')\n",
    "    \n",
    "        cleaned_data_aug[stock_ticker] = (X,y,X_lately)\n",
    "        \n",
    "        ### SINGLE STOCK\n",
    "\n",
    "        stock_data = u.prune_date_range(stock_data, stock_n_market_n_industry)\n",
    "        X,y,X_lately = u.clean_and_split(stock_data,\n",
    "                              forecast_pct=0.05,\n",
    "                              forecast_col='Adj. Close')\n",
    "        \n",
    "        cleaned_data[stock_ticker] = (X,y,X_lately)\n",
    "\n",
    "    except:\n",
    "        print('skipped one due to NaN/Inf bug!')\n",
    "    \n"
   ]
  },
  {
   "cell_type": "markdown",
   "metadata": {},
   "source": [
    "### Save"
   ]
  },
  {
   "cell_type": "code",
   "execution_count": null,
   "metadata": {},
   "outputs": [],
   "source": [
    "#augmented\n",
    "with open('cleaned_data_aug.pickle', 'wb') as handle:\n",
    "    pkl.dump(cleaned_data_aug, handle, protocol=pkl.HIGHEST_PROTOCOL)\n",
    "    \n",
    "#individual stock\n",
    "with open('cleaned_data.pickle', 'wb') as handle:\n",
    "    pkl.dump(cleaned_data, handle, protocol=pkl.HIGHEST_PROTOCOL)"
   ]
  }
 ],
 "metadata": {
  "kernelspec": {
   "display_name": "Python 3",
   "language": "python",
   "name": "python3"
  },
  "language_info": {
   "codemirror_mode": {
    "name": "ipython",
    "version": 3
   },
   "file_extension": ".py",
   "mimetype": "text/x-python",
   "name": "python",
   "nbconvert_exporter": "python",
   "pygments_lexer": "ipython3",
   "version": "3.6.5"
  }
 },
 "nbformat": 4,
 "nbformat_minor": 2
}
